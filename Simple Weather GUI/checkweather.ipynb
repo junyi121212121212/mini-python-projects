{
 "cells": [
  {
   "cell_type": "markdown",
   "id": "f1a1f61a",
   "metadata": {},
   "source": [
    "# Simple weather gui\n",
    "\n",
    "Check weather forecast \n",
    "*(Use the `sideprojectenv` kernel)*\n",
    "\n",
    "**How it works:**\n",
    "1. Type in the city\n",
    "\n",
    "**Required modules:**\n",
    "- `pip install pillow`"
   ]
  },
  {
   "cell_type": "code",
   "execution_count": 3,
   "id": "88e932bb",
   "metadata": {},
   "outputs": [
    {
     "name": "stdout",
     "output_type": "stream",
     "text": [
      "{'coord': {'lon': 12.2797, 'lat': 46.7406}, 'weather': [{'id': 800, 'main': 'Clear', 'description': 'clear sky', 'icon': '01d'}], 'base': 'stations', 'main': {'temp': 22.42, 'feels_like': 21.87, 'temp_min': 22.42, 'temp_max': 22.42, 'pressure': 1019, 'humidity': 44, 'sea_level': 1019, 'grnd_level': 822}, 'visibility': 10000, 'wind': {'speed': 1.83, 'deg': 239, 'gust': 2.09}, 'clouds': {'all': 9}, 'dt': 1754574776, 'sys': {'country': 'IT', 'sunrise': 1754539111, 'sunset': 1754591689}, 'timezone': 7200, 'id': 3168508, 'name': 'Innichen', 'cod': 200}\n",
      "{'coord': {'lon': 72.8479, 'lat': 19.0144}, 'weather': [{'id': 804, 'main': 'Clouds', 'description': 'overcast clouds', 'icon': '04n'}], 'base': 'stations', 'main': {'temp': 28.17, 'feels_like': 32.36, 'temp_min': 28.17, 'temp_max': 28.17, 'pressure': 1007, 'humidity': 79, 'sea_level': 1007, 'grnd_level': 1006}, 'visibility': 10000, 'wind': {'speed': 3.45, 'deg': 288, 'gust': 3.89}, 'clouds': {'all': 100}, 'dt': 1754574533, 'sys': {'country': 'IN', 'sunrise': 1754527644, 'sunset': 1754574085}, 'timezone': 19800, 'id': 1275339, 'name': 'Mumbai', 'cod': 200}\n"
     ]
    },
    {
     "name": "stderr",
     "output_type": "stream",
     "text": [
      "Exception in Tkinter callback\n",
      "Traceback (most recent call last):\n",
      "  File \"c:\\Anaconda\\envs\\sideprojectenv\\Lib\\tkinter\\__init__.py\", line 1967, in __call__\n",
      "    return self.func(*args)\n",
      "           ^^^^^^^^^^^^^^^^\n",
      "  File \"C:\\Users\\gerra\\AppData\\Local\\Temp\\ipykernel_23748\\2039414994.py\", line 55, in <lambda>\n",
      "    submit = tk.Button(frame, text='Get Weather', font=40, command=lambda: get_weather(textbox.get()))\n",
      "                                                                           ^^^^^^^^^^^^^^^^^^^^^^^^^^\n",
      "  File \"C:\\Users\\gerra\\AppData\\Local\\Temp\\ipykernel_23748\\2039414994.py\", line 32, in get_weather\n",
      "    open_image(icon_name)\n",
      "  File \"C:\\Users\\gerra\\AppData\\Local\\Temp\\ipykernel_23748\\2039414994.py\", line 36, in open_image\n",
      "    img = ImageTk.PhotoImage(Image.open('./img/'+icon+'.png').resize((size, size)))\n",
      "                             ^^^^^^^^^^^^^^^^^^^^^^^^^^^^^^^^\n",
      "  File \"c:\\Anaconda\\envs\\sideprojectenv\\Lib\\site-packages\\PIL\\Image.py\", line 3513, in open\n",
      "    fp = builtins.open(filename, \"rb\")\n",
      "         ^^^^^^^^^^^^^^^^^^^^^^^^^^^^^\n",
      "FileNotFoundError: [Errno 2] No such file or directory: './img/04n.png'\n"
     ]
    },
    {
     "name": "stdout",
     "output_type": "stream",
     "text": [
      "{'coord': {'lon': 135.7538, 'lat': 35.0211}, 'weather': [{'id': 800, 'main': 'Clear', 'description': 'clear sky', 'icon': '01n'}], 'base': 'stations', 'main': {'temp': 26.62, 'feels_like': 26.62, 'temp_min': 26.62, 'temp_max': 26.62, 'pressure': 1003, 'humidity': 89, 'sea_level': 1003, 'grnd_level': 978}, 'visibility': 10000, 'wind': {'speed': 1.78, 'deg': 328, 'gust': 2.15}, 'clouds': {'all': 5}, 'dt': 1754574633, 'sys': {'country': 'JP', 'sunrise': 1754511038, 'sunset': 1754560499}, 'timezone': 32400, 'id': 1857910, 'name': 'Kyoto', 'cod': 200}\n"
     ]
    },
    {
     "name": "stderr",
     "output_type": "stream",
     "text": [
      "Exception in Tkinter callback\n",
      "Traceback (most recent call last):\n",
      "  File \"c:\\Anaconda\\envs\\sideprojectenv\\Lib\\tkinter\\__init__.py\", line 1967, in __call__\n",
      "    return self.func(*args)\n",
      "           ^^^^^^^^^^^^^^^^\n",
      "  File \"C:\\Users\\gerra\\AppData\\Local\\Temp\\ipykernel_23748\\2039414994.py\", line 55, in <lambda>\n",
      "    submit = tk.Button(frame, text='Get Weather', font=40, command=lambda: get_weather(textbox.get()))\n",
      "                                                                           ^^^^^^^^^^^^^^^^^^^^^^^^^^\n",
      "  File \"C:\\Users\\gerra\\AppData\\Local\\Temp\\ipykernel_23748\\2039414994.py\", line 32, in get_weather\n",
      "    open_image(icon_name)\n",
      "  File \"C:\\Users\\gerra\\AppData\\Local\\Temp\\ipykernel_23748\\2039414994.py\", line 36, in open_image\n",
      "    img = ImageTk.PhotoImage(Image.open('./img/'+icon+'.png').resize((size, size)))\n",
      "                             ^^^^^^^^^^^^^^^^^^^^^^^^^^^^^^^^\n",
      "  File \"c:\\Anaconda\\envs\\sideprojectenv\\Lib\\site-packages\\PIL\\Image.py\", line 3513, in open\n",
      "    fp = builtins.open(filename, \"rb\")\n",
      "         ^^^^^^^^^^^^^^^^^^^^^^^^^^^^^\n",
      "FileNotFoundError: [Errno 2] No such file or directory: './img/01n.png'\n"
     ]
    },
    {
     "name": "stdout",
     "output_type": "stream",
     "text": [
      "{'coord': {'lon': 135.7538, 'lat': 35.0211}, 'weather': [{'id': 800, 'main': 'Clear', 'description': 'clear sky', 'icon': '01n'}], 'base': 'stations', 'main': {'temp': 26.62, 'feels_like': 26.62, 'temp_min': 26.62, 'temp_max': 26.62, 'pressure': 1003, 'humidity': 89, 'sea_level': 1003, 'grnd_level': 978}, 'visibility': 10000, 'wind': {'speed': 1.78, 'deg': 328, 'gust': 2.15}, 'clouds': {'all': 5}, 'dt': 1754574633, 'sys': {'country': 'JP', 'sunrise': 1754511038, 'sunset': 1754560499}, 'timezone': 32400, 'id': 1857910, 'name': 'Kyoto', 'cod': 200}\n"
     ]
    },
    {
     "name": "stderr",
     "output_type": "stream",
     "text": [
      "Exception in Tkinter callback\n",
      "Traceback (most recent call last):\n",
      "  File \"c:\\Anaconda\\envs\\sideprojectenv\\Lib\\tkinter\\__init__.py\", line 1967, in __call__\n",
      "    return self.func(*args)\n",
      "           ^^^^^^^^^^^^^^^^\n",
      "  File \"C:\\Users\\gerra\\AppData\\Local\\Temp\\ipykernel_23748\\2039414994.py\", line 55, in <lambda>\n",
      "    submit = tk.Button(frame, text='Get Weather', font=40, command=lambda: get_weather(textbox.get()))\n",
      "                                                                           ^^^^^^^^^^^^^^^^^^^^^^^^^^\n",
      "  File \"C:\\Users\\gerra\\AppData\\Local\\Temp\\ipykernel_23748\\2039414994.py\", line 32, in get_weather\n",
      "    open_image(icon_name)\n",
      "  File \"C:\\Users\\gerra\\AppData\\Local\\Temp\\ipykernel_23748\\2039414994.py\", line 36, in open_image\n",
      "    img = ImageTk.PhotoImage(Image.open('./img/'+icon+'.png').resize((size, size)))\n",
      "                             ^^^^^^^^^^^^^^^^^^^^^^^^^^^^^^^^\n",
      "  File \"c:\\Anaconda\\envs\\sideprojectenv\\Lib\\site-packages\\PIL\\Image.py\", line 3513, in open\n",
      "    fp = builtins.open(filename, \"rb\")\n",
      "         ^^^^^^^^^^^^^^^^^^^^^^^^^^^^^\n",
      "FileNotFoundError: [Errno 2] No such file or directory: './img/01n.png'\n"
     ]
    },
    {
     "name": "stdout",
     "output_type": "stream",
     "text": [
      "{'coord': {'lon': 135.7538, 'lat': 35.0211}, 'weather': [{'id': 800, 'main': 'Clear', 'description': 'clear sky', 'icon': '01n'}], 'base': 'stations', 'main': {'temp': 26.62, 'feels_like': 26.62, 'temp_min': 26.62, 'temp_max': 26.62, 'pressure': 1003, 'humidity': 89, 'sea_level': 1003, 'grnd_level': 978}, 'visibility': 10000, 'wind': {'speed': 1.78, 'deg': 328, 'gust': 2.15}, 'clouds': {'all': 5}, 'dt': 1754574633, 'sys': {'country': 'JP', 'sunrise': 1754511038, 'sunset': 1754560499}, 'timezone': 32400, 'id': 1857910, 'name': 'Kyoto', 'cod': 200}\n",
      "{'coord': {'lon': 135.7538, 'lat': 35.0211}, 'weather': [{'id': 800, 'main': 'Clear', 'description': 'clear sky', 'icon': '01n'}], 'base': 'stations', 'main': {'temp': 26.62, 'feels_like': 26.62, 'temp_min': 26.62, 'temp_max': 26.62, 'pressure': 1003, 'humidity': 89, 'sea_level': 1003, 'grnd_level': 978}, 'visibility': 10000, 'wind': {'speed': 1.78, 'deg': 328, 'gust': 2.15}, 'clouds': {'all': 5}, 'dt': 1754574633, 'sys': {'country': 'JP', 'sunrise': 1754511038, 'sunset': 1754560499}, 'timezone': 32400, 'id': 1857910, 'name': 'Kyoto', 'cod': 200}\n",
      "{'coord': {'lon': 135.7538, 'lat': 35.0211}, 'weather': [{'id': 800, 'main': 'Clear', 'description': 'clear sky', 'icon': '01n'}], 'base': 'stations', 'main': {'temp': 26.62, 'feels_like': 26.62, 'temp_min': 26.62, 'temp_max': 26.62, 'pressure': 1003, 'humidity': 89, 'sea_level': 1003, 'grnd_level': 978}, 'visibility': 10000, 'wind': {'speed': 1.78, 'deg': 328, 'gust': 2.15}, 'clouds': {'all': 5}, 'dt': 1754574633, 'sys': {'country': 'JP', 'sunrise': 1754511038, 'sunset': 1754560499}, 'timezone': 32400, 'id': 1857910, 'name': 'Kyoto', 'cod': 200}\n"
     ]
    },
    {
     "name": "stderr",
     "output_type": "stream",
     "text": [
      "Exception in Tkinter callback\n",
      "Traceback (most recent call last):\n",
      "  File \"c:\\Anaconda\\envs\\sideprojectenv\\Lib\\tkinter\\__init__.py\", line 1967, in __call__\n",
      "    return self.func(*args)\n",
      "           ^^^^^^^^^^^^^^^^\n",
      "  File \"C:\\Users\\gerra\\AppData\\Local\\Temp\\ipykernel_23748\\2039414994.py\", line 55, in <lambda>\n",
      "    submit = tk.Button(frame, text='Get Weather', font=40, command=lambda: get_weather(textbox.get()))\n",
      "                                                                           ^^^^^^^^^^^^^^^^^^^^^^^^^^\n",
      "  File \"C:\\Users\\gerra\\AppData\\Local\\Temp\\ipykernel_23748\\2039414994.py\", line 32, in get_weather\n",
      "    open_image(icon_name)\n",
      "  File \"C:\\Users\\gerra\\AppData\\Local\\Temp\\ipykernel_23748\\2039414994.py\", line 36, in open_image\n",
      "    img = ImageTk.PhotoImage(Image.open('./img/'+icon+'.png').resize((size, size)))\n",
      "                             ^^^^^^^^^^^^^^^^^^^^^^^^^^^^^^^^\n",
      "  File \"c:\\Anaconda\\envs\\sideprojectenv\\Lib\\site-packages\\PIL\\Image.py\", line 3513, in open\n",
      "    fp = builtins.open(filename, \"rb\")\n",
      "         ^^^^^^^^^^^^^^^^^^^^^^^^^^^^^\n",
      "FileNotFoundError: [Errno 2] No such file or directory: './img/01n.png'\n",
      "Exception in Tkinter callback\n",
      "Traceback (most recent call last):\n",
      "  File \"c:\\Anaconda\\envs\\sideprojectenv\\Lib\\tkinter\\__init__.py\", line 1967, in __call__\n",
      "    return self.func(*args)\n",
      "           ^^^^^^^^^^^^^^^^\n",
      "  File \"C:\\Users\\gerra\\AppData\\Local\\Temp\\ipykernel_23748\\2039414994.py\", line 55, in <lambda>\n",
      "    submit = tk.Button(frame, text='Get Weather', font=40, command=lambda: get_weather(textbox.get()))\n",
      "                                                                           ^^^^^^^^^^^^^^^^^^^^^^^^^^\n",
      "  File \"C:\\Users\\gerra\\AppData\\Local\\Temp\\ipykernel_23748\\2039414994.py\", line 32, in get_weather\n",
      "    open_image(icon_name)\n",
      "  File \"C:\\Users\\gerra\\AppData\\Local\\Temp\\ipykernel_23748\\2039414994.py\", line 36, in open_image\n",
      "    img = ImageTk.PhotoImage(Image.open('./img/'+icon+'.png').resize((size, size)))\n",
      "                             ^^^^^^^^^^^^^^^^^^^^^^^^^^^^^^^^\n",
      "  File \"c:\\Anaconda\\envs\\sideprojectenv\\Lib\\site-packages\\PIL\\Image.py\", line 3513, in open\n",
      "    fp = builtins.open(filename, \"rb\")\n",
      "         ^^^^^^^^^^^^^^^^^^^^^^^^^^^^^\n",
      "FileNotFoundError: [Errno 2] No such file or directory: './img/01n.png'\n",
      "Exception in Tkinter callback\n",
      "Traceback (most recent call last):\n",
      "  File \"c:\\Anaconda\\envs\\sideprojectenv\\Lib\\tkinter\\__init__.py\", line 1967, in __call__\n",
      "    return self.func(*args)\n",
      "           ^^^^^^^^^^^^^^^^\n",
      "  File \"C:\\Users\\gerra\\AppData\\Local\\Temp\\ipykernel_23748\\2039414994.py\", line 55, in <lambda>\n",
      "    submit = tk.Button(frame, text='Get Weather', font=40, command=lambda: get_weather(textbox.get()))\n",
      "                                                                           ^^^^^^^^^^^^^^^^^^^^^^^^^^\n",
      "  File \"C:\\Users\\gerra\\AppData\\Local\\Temp\\ipykernel_23748\\2039414994.py\", line 32, in get_weather\n",
      "    open_image(icon_name)\n",
      "  File \"C:\\Users\\gerra\\AppData\\Local\\Temp\\ipykernel_23748\\2039414994.py\", line 36, in open_image\n",
      "    img = ImageTk.PhotoImage(Image.open('./img/'+icon+'.png').resize((size, size)))\n",
      "                             ^^^^^^^^^^^^^^^^^^^^^^^^^^^^^^^^\n",
      "  File \"c:\\Anaconda\\envs\\sideprojectenv\\Lib\\site-packages\\PIL\\Image.py\", line 3513, in open\n",
      "    fp = builtins.open(filename, \"rb\")\n",
      "         ^^^^^^^^^^^^^^^^^^^^^^^^^^^^^\n",
      "FileNotFoundError: [Errno 2] No such file or directory: './img/01n.png'\n"
     ]
    },
    {
     "name": "stdout",
     "output_type": "stream",
     "text": [
      "{'coord': {'lon': 135.5022, 'lat': 34.6937}, 'weather': [{'id': 800, 'main': 'Clear', 'description': 'clear sky', 'icon': '01n'}], 'base': 'stations', 'main': {'temp': 27.72, 'feels_like': 31.69, 'temp_min': 27.72, 'temp_max': 27.72, 'pressure': 1003, 'humidity': 82, 'sea_level': 1003, 'grnd_level': 998}, 'visibility': 10000, 'wind': {'speed': 1.43, 'deg': 332, 'gust': 4.44}, 'clouds': {'all': 10}, 'dt': 1754574533, 'sys': {'country': 'JP', 'sunrise': 1754511135, 'sunset': 1754560523}, 'timezone': 32400, 'id': 1853909, 'name': 'Osaka', 'cod': 200}\n"
     ]
    },
    {
     "name": "stderr",
     "output_type": "stream",
     "text": [
      "Exception in Tkinter callback\n",
      "Traceback (most recent call last):\n",
      "  File \"c:\\Anaconda\\envs\\sideprojectenv\\Lib\\tkinter\\__init__.py\", line 1967, in __call__\n",
      "    return self.func(*args)\n",
      "           ^^^^^^^^^^^^^^^^\n",
      "  File \"C:\\Users\\gerra\\AppData\\Local\\Temp\\ipykernel_23748\\2039414994.py\", line 55, in <lambda>\n",
      "    submit = tk.Button(frame, text='Get Weather', font=40, command=lambda: get_weather(textbox.get()))\n",
      "                                                                           ^^^^^^^^^^^^^^^^^^^^^^^^^^\n",
      "  File \"C:\\Users\\gerra\\AppData\\Local\\Temp\\ipykernel_23748\\2039414994.py\", line 32, in get_weather\n",
      "    open_image(icon_name)\n",
      "  File \"C:\\Users\\gerra\\AppData\\Local\\Temp\\ipykernel_23748\\2039414994.py\", line 36, in open_image\n",
      "    img = ImageTk.PhotoImage(Image.open('./img/'+icon+'.png').resize((size, size)))\n",
      "                             ^^^^^^^^^^^^^^^^^^^^^^^^^^^^^^^^\n",
      "  File \"c:\\Anaconda\\envs\\sideprojectenv\\Lib\\site-packages\\PIL\\Image.py\", line 3513, in open\n",
      "    fp = builtins.open(filename, \"rb\")\n",
      "         ^^^^^^^^^^^^^^^^^^^^^^^^^^^^^\n",
      "FileNotFoundError: [Errno 2] No such file or directory: './img/01n.png'\n"
     ]
    }
   ],
   "source": [
    "\n",
    "import tkinter as tk\n",
    "import requests\n",
    "from PIL import Image, ImageTk\n",
    "\n",
    "app = tk.Tk()\n",
    "\n",
    "HEIGHT = 300\n",
    "WIDTH = 500\n",
    "\n",
    "def format_response(weather_json):\n",
    "    try:\n",
    "        city = weather_json['name']\n",
    "        conditions = weather_json['weather'][0]['description']\n",
    "        temp = weather_json['main']['temp']\n",
    "        final_str = 'City: %s \\nConditions: %s \\nTemperature (°C): %s' % (city, conditions, temp)\n",
    "    except:\n",
    "        final_str = 'There was a problem retrieving that information'\n",
    "    return final_str\n",
    "\n",
    "\n",
    "def get_weather(city):\n",
    "    weather_key = 'edffd1bf975a74d5d10e58c5ac8be2d3'\n",
    "    url = 'https://api.openweathermap.org/data/2.5/weather'\n",
    "    params = {'APPID': 'edffd1bf975a74d5d10e58c5ac8be2d3', 'q': city, 'units':'metric'}\n",
    "    response = requests.get(url, params=params)\n",
    "    print(response.json())\n",
    "    weather_json = response.json()\n",
    "\n",
    "    results['text'] = format_response(response.json())\n",
    "\n",
    "    icon_name = weather_json['weather'][0]['icon']\n",
    "    open_image(icon_name)\n",
    "\n",
    "def open_image(icon):\n",
    "    size = int(lower_frame.winfo_height()*0.25)\n",
    "    img = ImageTk.PhotoImage(Image.open('./img/'+icon+'.png').resize((size, size)))\n",
    "    weather_icon.delete(\"all\")\n",
    "    weather_icon.create_image(0,0, anchor='nw', image=img)\n",
    "    weather_icon.image = img\n",
    "\n",
    "C = tk.Canvas(app, height=HEIGHT, width=WIDTH)\n",
    "background_image= tk.PhotoImage(file='img\\landscape.png')\n",
    "background_label = tk.Label(app, image=background_image)\n",
    "background_label.place(x=0, y=0, relwidth=1, relheight=1)\n",
    "\n",
    "C.pack()\n",
    "\n",
    "frame = tk.Frame(app,  bg='#42c2f4', bd=5)\n",
    "frame.place(relx=0.5, rely=0.1, relwidth=0.75, relheight=0.1, anchor='n')\n",
    "#frame_window = C.create_window(100, 40, window=frame)\n",
    "\n",
    "textbox = tk.Entry(frame, font=40)\n",
    "textbox.place(relwidth=0.65, relheight=1)\n",
    "\n",
    "submit = tk.Button(frame, text='Get Weather', font=40, command=lambda: get_weather(textbox.get()))\n",
    "#submit.config(font=)\n",
    "submit.place(relx=0.7, relheight=1, relwidth=0.3)\n",
    "\n",
    "lower_frame = tk.Frame(app, bg='#42c2f4', bd=10)\n",
    "lower_frame.place(relx=0.5, rely=0.25, relwidth=0.75, relheight=0.6, anchor='n')\n",
    "\n",
    "bg_color = 'white'\n",
    "results = tk.Label(lower_frame, anchor='nw', justify='left', bd=4)\n",
    "results.config(font=40, bg=bg_color)\n",
    "results.place(relwidth=1, relheight=1)\n",
    "\n",
    "weather_icon = tk.Canvas(results, bg=bg_color, bd=0, highlightthickness=0)\n",
    "weather_icon.place(relx=.75, rely=0, relwidth=1, relheight=0.5)\n",
    "\n",
    "app.mainloop()"
   ]
  }
 ],
 "metadata": {
  "kernelspec": {
   "display_name": "sideprojectenv",
   "language": "python",
   "name": "python3"
  },
  "language_info": {
   "codemirror_mode": {
    "name": "ipython",
    "version": 3
   },
   "file_extension": ".py",
   "mimetype": "text/x-python",
   "name": "python",
   "nbconvert_exporter": "python",
   "pygments_lexer": "ipython3",
   "version": "3.11.13"
  }
 },
 "nbformat": 4,
 "nbformat_minor": 5
}
