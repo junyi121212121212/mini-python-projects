{
 "cells": [
  {
   "cell_type": "markdown",
   "id": "85ae2b7b",
   "metadata": {},
   "source": [
    "# Convert img to other art\n",
    "\n",
    "Convert any image to other art! \n",
    "\n",
    "**How it works:**\n",
    "1. Enter the website URL when prompted.\n",
    "\n",
    "**Required modules:**\n",
    "- `pip install pywhatkit`\n",
    "- `pip install opencv-python`"
   ]
  },
  {
   "cell_type": "markdown",
   "id": "fd0f3568",
   "metadata": {},
   "source": [
    "## Convert Image to ASCII"
   ]
  },
  {
   "cell_type": "code",
   "execution_count": 7,
   "id": "69afc69e",
   "metadata": {},
   "outputs": [
    {
     "name": "stdout",
     "output_type": "stream",
     "text": [
      "Let's convert image to ASCII symbols!\n",
      "Select an image file to convert to ASCII art.\n",
      "ASCII art saved to ascii_img.txt\n"
     ]
    }
   ],
   "source": [
    "import pywhatkit as kt\n",
    "import tkinter as tk\n",
    "from tkinter import filedialog\n",
    "print(\"Let's convert image to ASCII symbols!\")\n",
    "\n",
    "# Hide the main tkinter window\n",
    "root = tk.Tk()\n",
    "root.withdraw()\n",
    "\n",
    "print(\"Select an image file to convert to ASCII art.\")\n",
    "source_path = filedialog.askopenfilename(title=\"Select Image\", filetypes=[(\"Image Files\", \"*.png;*.jpg;*.jpeg;*.bmp\")])\n",
    "\n",
    "if source_path:\n",
    "    target_path = \"ascii_img\"\n",
    "    if target_path:\n",
    "        kt.image_to_ascii_art(source_path, target_path)\n",
    "        print(f\"ASCII art saved to {target_path}.txt\")\n",
    "    else:\n",
    "        print(\"No save location selected.\")\n",
    "else:\n",
    "    print(\"No image selected.\")"
   ]
  },
  {
   "cell_type": "markdown",
   "id": "39608a44",
   "metadata": {},
   "source": [
    "## Convert image to other Arts"
   ]
  },
  {
   "cell_type": "code",
   "execution_count": 6,
   "id": "4d309ad8",
   "metadata": {},
   "outputs": [
    {
     "name": "stdout",
     "output_type": "stream",
     "text": [
      "Select an image file to convert to ASCII art.\n"
     ]
    },
    {
     "data": {
      "text/plain": [
       "-1"
      ]
     },
     "execution_count": 6,
     "metadata": {},
     "output_type": "execute_result"
    }
   ],
   "source": [
    "# Import the necessary module!\n",
    "import cv2\n",
    "import tkinter as tk\n",
    "from tkinter import filedialog\n",
    "# Hide the main tkinter window\n",
    "root = tk.Tk()\n",
    "root.withdraw()\n",
    "\n",
    "print(\"Select an image file to convert to ASCII art.\")\n",
    "image = filedialog.askopenfilename(title=\"Select Image\", filetypes=[(\"Image Files\", \"*.png;*.jpg;*.jpeg;*.bmp\")])\n",
    "image = cv2.imread(image)\n",
    "\n",
    "cv2.imshow(\"img\", image)                    # original picture\n",
    "cv2.waitKey(0)\n",
    "\n",
    "gray_image = cv2.cvtColor(image, cv2.COLOR_BGR2GRAY)\n",
    "cv2.imshow(\"img Gray\", gray_image)               # grayscale image of original\n",
    "cv2.waitKey(0)\n",
    "\n",
    "inverted_image = 255 - gray_image\n",
    "cv2.imshow(\"img Inverted\", inverted_image)  # negative image of original\n",
    "cv2.waitKey()\n",
    "\n",
    "blurred = cv2.GaussianBlur(inverted_image, (21, 21), 0)\n",
    "inverted_blurred = 255 - blurred\n",
    "pencil_sketch = cv2.divide(gray_image, inverted_blurred, scale=256.0)\n",
    "cv2.imshow(\"img Sketch\", pencil_sketch)    # pencil-sketch image of original\n",
    "cv2.waitKey(0)\n",
    "\n",
    "# Show original picture and pencil-sketch of original image side by side\n",
    "cv2.imshow(\"img original image\", image)         # original image\n",
    "cv2.imshow(\"img pencil sketch\", pencil_sketch)  # prncil-sketch image\n",
    "cv2.waitKey(0)"
   ]
  }
 ],
 "metadata": {
  "kernelspec": {
   "display_name": "sideprojectenv",
   "language": "python",
   "name": "python3"
  },
  "language_info": {
   "codemirror_mode": {
    "name": "ipython",
    "version": 3
   },
   "file_extension": ".py",
   "mimetype": "text/x-python",
   "name": "python",
   "nbconvert_exporter": "python",
   "pygments_lexer": "ipython3",
   "version": "3.11.13"
  }
 },
 "nbformat": 4,
 "nbformat_minor": 5
}
