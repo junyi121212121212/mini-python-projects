{
 "cells": [
  {
   "cell_type": "code",
   "execution_count": 2,
   "metadata": {},
   "outputs": [],
   "source": [
    "import random\n",
    "import numpy as np\n",
    "import time"
   ]
  },
  {
   "cell_type": "markdown",
   "metadata": {},
   "source": [
    "### Hi-Lo Card Counting Training with Python\n",
    "\n",
    "This Python script is designed to help train someone in card counting using the Hi-Lo method. Card counting is a technique used in blackjack to determine whether the next hand is likely to give an advantage to the player or the dealer. The Hi-Lo method is one of the most popular and easiest to learn among card counting techniques.\n",
    "\n",
    "#### The Hi-Lo Method\n",
    "\n",
    "In the Hi-Lo method, each card in the deck is assigned a value:\n",
    "- **+1**: Cards 2, 3, 4, 5, 6\n",
    "- **0**: Cards 7, 8, 9\n",
    "- **-1**: Cards 10, J, Q, K, A\n",
    "\n",
    "As you see the cards being dealt, you add or subtract these values to a running count. The higher the count, the more favorable the deck is to the player because it indicates that there are more high cards (10, J, Q, K, A) left, which benefits the player. Conversely, a lower or negative count suggests that the deck is favorable to the dealer.\n",
    "\n",
    "#### How the Code Works\n",
    "\n",
    "This script simulates a simple card-counting training session by randomly displaying a card value every 3 seconds for a total of 30 times. Based on the card value shown, it adjusts a score according to the Hi-Lo method:\n",
    "\n",
    "- **+1** for every card that is a 2, 3, 4, 5, or 6.\n",
    "- **-1** for every card that is a J, Q, K, or A.\n",
    "- **0** for cards 7, 8, 9, and 10, which are ignored in the counting.\n",
    "\n",
    "At the end of the session, the script outputs the final score, which reflects the running count a card counter would have after observing these cards."
   ]
  },
  {
   "cell_type": "code",
   "execution_count": 3,
   "metadata": {},
   "outputs": [
    {
     "name": "stdout",
     "output_type": "stream",
     "text": [
      "5\n",
      "8\n",
      "A\n",
      "5\n",
      "J\n",
      "K\n",
      "2\n",
      "J\n",
      "K\n",
      "3\n",
      "7\n",
      "2\n",
      "10\n",
      "2\n",
      "8\n",
      "6\n",
      "10\n",
      "J\n",
      "3\n",
      "6\n",
      "A\n",
      "A\n",
      "A\n",
      "4\n",
      "9\n",
      "7\n",
      "5\n",
      "8\n",
      "4\n",
      "8\n",
      "Final count: 3\n"
     ]
    }
   ],
   "source": [
    "X = np.array([\"A\", \"2\", \"3\", \"4\", \"5\", \"6\", \"7\", \"8\", \"9\", \"10\", \"J\", \"Q\", \"K\"])\n",
    "\n",
    "count = 0\n",
    "\n",
    "\n",
    "num_of_cards = 30\n",
    "\n",
    "# Display a random element for 3 seconds, 30 times\n",
    "for _ in range(num_of_cards):\n",
    "    random_element = random.choice(X)\n",
    "    print(random_element)\n",
    "    \n",
    "    # Adjust the count based on the value of the random element\n",
    "    if random_element in [\"2\", \"3\", \"4\", \"5\", \"6\"]:\n",
    "        count += 1\n",
    "    elif random_element in [\"J\", \"Q\", \"K\", \"A\"]:\n",
    "        count -= 1\n",
    "    time.sleep(3)  # Pause for 3 seconds\n",
    "\n",
    "# Print the final count\n",
    "print(\"Final count:\", count)"
   ]
  }
 ],
 "metadata": {
  "kernelspec": {
   "display_name": "Python 3",
   "language": "python",
   "name": "python3"
  },
  "language_info": {
   "codemirror_mode": {
    "name": "ipython",
    "version": 3
   },
   "file_extension": ".py",
   "mimetype": "text/x-python",
   "name": "python",
   "nbconvert_exporter": "python",
   "pygments_lexer": "ipython3",
   "version": "3.11.8"
  }
 },
 "nbformat": 4,
 "nbformat_minor": 2
}
