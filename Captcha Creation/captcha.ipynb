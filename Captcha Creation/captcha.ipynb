{
 "cells": [
  {
   "cell_type": "markdown",
   "id": "7866afae",
   "metadata": {},
   "source": [
    "# Captcha creation\n",
    "\n",
    "Photo and audio captcha creation!\n",
    "*(Use the `sideprojectenv` kernel)*\n",
    "\n",
    "**How it works:**\n",
    "1. Input a word for the captcha\n",
    "\n",
    "**Required modules:**\n",
    "- `pip install captcha`"
   ]
  },
  {
   "cell_type": "markdown",
   "id": "9ddf8c40",
   "metadata": {},
   "source": [
    "### Photo CAPTCHA"
   ]
  },
  {
   "cell_type": "code",
   "execution_count": 1,
   "id": "72301d6c",
   "metadata": {},
   "outputs": [],
   "source": [
    "from captcha.image import ImageCaptcha\n",
    "\n",
    "image = ImageCaptcha(width=500, height=100)\n",
    "\n",
    "user_input = input(\"Enter a word for the photo captcha: \")\n",
    "\n",
    "data =  image.generate(user_input)\n",
    "\n",
    "# Write to the file\n",
    "image.write(user_input,\"CAPTCHA_1.png\")"
   ]
  },
  {
   "cell_type": "markdown",
   "id": "7611d1e3",
   "metadata": {},
   "source": [
    "### Audio CAPTCHA"
   ]
  },
  {
   "cell_type": "code",
   "execution_count": 2,
   "id": "428a690e",
   "metadata": {},
   "outputs": [],
   "source": [
    "from captcha.audio import AudioCaptcha\n",
    "\n",
    "# Define properties\n",
    "audio = AudioCaptcha()\n",
    "\n",
    "user_input = input(\"Enter a word for the audio captcha(only numbers!): \")\n",
    "\n",
    "# Define data\n",
    "data = audio.generate(user_input)\n",
    "\n",
    "# Write to the file\n",
    "audio.write(user_input, \"CAPTCHA_2.wav\")"
   ]
  }
 ],
 "metadata": {
  "kernelspec": {
   "display_name": "sideprojectenv",
   "language": "python",
   "name": "python3"
  },
  "language_info": {
   "codemirror_mode": {
    "name": "ipython",
    "version": 3
   },
   "file_extension": ".py",
   "mimetype": "text/x-python",
   "name": "python",
   "nbconvert_exporter": "python",
   "pygments_lexer": "ipython3",
   "version": "3.11.13"
  }
 },
 "nbformat": 4,
 "nbformat_minor": 5
}
