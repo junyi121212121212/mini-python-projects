{
 "cells": [
  {
   "cell_type": "markdown",
   "id": "d076f4b1",
   "metadata": {},
   "source": [
    "# Face Recognition using OpenCV\n",
    "\n",
    "Try out face recognition using OpenCV!\n",
    "\n",
    "\n",
    "**How it works:**\n",
    "1. Run the cell and see ur face being detected!\n",
    "2. Press `q` to quit\n",
    "\n",
    "**Required modules:**\n",
    "- `pip install opencv-python`"
   ]
  },
  {
   "cell_type": "markdown",
   "id": "11807b42",
   "metadata": {},
   "source": [
    "## Face Detection"
   ]
  },
  {
   "cell_type": "code",
   "execution_count": null,
   "id": "3be070c9",
   "metadata": {},
   "outputs": [],
   "source": [
    "import cv2\n",
    "\n",
    "cap = cv2.VideoCapture(0)\n",
    "\n",
    "face_cascade = cv2.CascadeClassifier(\n",
    "    cv2.data.haarcascades + \"haarcascade_frontalface_default.xml\")\n",
    "\n",
    "while True:\n",
    "    _, frame = cap.read()\n",
    "\n",
    "    gray = cv2.cvtColor(frame, cv2.COLOR_BGR2GRAY)\n",
    "    faces = face_cascade.detectMultiScale(gray, 1.3, 5)\n",
    "\n",
    "    for (x, y, width, height) in faces:\n",
    "       cv2.rectangle(frame, (x, y), (x + width, y + height), (255, 0, 0), 3)\n",
    "\n",
    "    cv2.imshow(\"Camera (Press q to exit)\", frame)\n",
    "\n",
    "    if cv2.waitKey(1) == ord('q'):\n",
    "        break\n",
    "\n",
    "cap.release()\n",
    "cv2.destroyAllWindows()"
   ]
  }
 ],
 "metadata": {
  "kernelspec": {
   "display_name": "sideprojectenv",
   "language": "python",
   "name": "python3"
  },
  "language_info": {
   "codemirror_mode": {
    "name": "ipython",
    "version": 3
   },
   "file_extension": ".py",
   "mimetype": "text/x-python",
   "name": "python",
   "nbconvert_exporter": "python",
   "pygments_lexer": "ipython3",
   "version": "3.11.13"
  }
 },
 "nbformat": 4,
 "nbformat_minor": 5
}
