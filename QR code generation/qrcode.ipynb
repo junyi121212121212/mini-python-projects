{
 "cells": [
  {
   "cell_type": "markdown",
   "id": "8d8f276f",
   "metadata": {},
   "source": [
    "# QR Code Generator\n",
    "\n",
    "Easily create QR codes for any website!  \n",
    "\n",
    "**How it works:**\n",
    "1. Enter the website URL when prompted.\n",
    "2. Generate and download your QR code.\n",
    "\n",
    "**Required modules:**\n",
    "- `pip install pyqrcode`\n",
    "- `pip install pypng`"
   ]
  },
  {
   "cell_type": "code",
   "execution_count": null,
   "id": "0e03384c",
   "metadata": {},
   "outputs": [],
   "source": [
    "import pyqrcode\n",
    "\n",
    "data = input(\"Enter the website URL: \")\n",
    "qr = pyqrcode.create(data)\n",
    "qr.png('qrcode.png', scale=5)"
   ]
  }
 ],
 "metadata": {
  "kernelspec": {
   "display_name": "sideprojectenv",
   "language": "python",
   "name": "python3"
  },
  "language_info": {
   "codemirror_mode": {
    "name": "ipython",
    "version": 3
   },
   "file_extension": ".py",
   "mimetype": "text/x-python",
   "name": "python",
   "nbconvert_exporter": "python",
   "pygments_lexer": "ipython3",
   "version": "3.11.13"
  }
 },
 "nbformat": 4,
 "nbformat_minor": 5
}
