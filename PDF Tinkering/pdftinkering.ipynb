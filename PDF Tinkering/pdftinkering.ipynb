{
 "cells": [
  {
   "cell_type": "markdown",
   "id": "3e844884",
   "metadata": {},
   "source": [
    "# Tinker your pdf files with ease\n",
    "\n",
    "Merge or demerge pdf files!\n",
    "\n",
    "\n",
    "**How it works (demerging):**\n",
    "1. Select one file to demerge\n",
    "2. Enter the name of the output files\n",
    "3. Enter the number of pages for each output file\n",
    "4. Wait for the output files to be created\n",
    "\n",
    "**How it works (merging):**\n",
    "1. Select two files to merge\n",
    "2. Select the output file\n",
    "3. Wait for the output file to be created\n",
    "\n",
    "**Required modules:**\n",
    "- `pip install PyPDF2`\n"
   ]
  },
  {
   "cell_type": "markdown",
   "id": "566d9ff7",
   "metadata": {},
   "source": [
    "## Import necessary modules"
   ]
  },
  {
   "cell_type": "code",
   "execution_count": 1,
   "id": "0a71e452",
   "metadata": {},
   "outputs": [],
   "source": [
    "import PyPDF2\n",
    "import re\n",
    "import tkinter as tk\n",
    "from tkinter import filedialog, messagebox"
   ]
  },
  {
   "cell_type": "code",
   "execution_count": null,
   "id": "ef44e13a",
   "metadata": {},
   "outputs": [],
   "source": [
    "def check_valid_filename(filename):\n",
    "    invalid_chars = r'[/\\\\:*?\"<>|]'\n",
    "    if re.search(invalid_chars, filename):\n",
    "        print('A file name cannot contain any of these characters / \\\\ : * ? \" < > |')\n",
    "        return False\n",
    "    else:\n",
    "        return True"
   ]
  },
  {
   "cell_type": "markdown",
   "id": "84a1f889",
   "metadata": {},
   "source": [
    "## Demerging PDFs"
   ]
  },
  {
   "cell_type": "code",
   "execution_count": null,
   "id": "52e8b37e",
   "metadata": {},
   "outputs": [],
   "source": [
    "\n",
    "\n",
    "# Create root window and hide it\n",
    "root = tk.Tk()\n",
    "root.withdraw()\n",
    "\n",
    "# Ask user to select a PDF to split\n",
    "source_pdf = filedialog.askopenfilename(title=\"Select PDF to split\", filetypes=[(\"PDF Files\", \"*.pdf\")])\n",
    "if not source_pdf:\n",
    "    print(\"No PDF selected. Exiting.\")\n",
    "    raise SystemExit\n",
    "\n",
    "with open(source_pdf, mode='rb') as merged_pdf:\n",
    "    pdf = PyPDF2.PdfReader(merged_pdf)\n",
    "\n",
    "    total_pages = len(pdf.pages)\n",
    "    processed = 0\n",
    "    start_idx = 0\n",
    "    chunk_idx = 1\n",
    "\n",
    "    while processed < total_pages:\n",
    "        # Ask only for number of pages per file; default name will be suggested in the Save dialog\n",
    "\n",
    "        while True:\n",
    "            try:\n",
    "                ctr = int(input(f\"Enter number of pages for this file (Pages left: {total_pages - processed}): \"))\n",
    "                if ctr > 0:\n",
    "                    break\n",
    "                print(\"Page number must be a positive integer\")\n",
    "            except ValueError:\n",
    "                print(\"Please enter a valid integer\")\n",
    "\n",
    "        if processed + ctr > total_pages:\n",
    "            print(\"Limit exceeded!\")\n",
    "            break\n",
    "\n",
    "        save_path = filedialog.asksaveasfilename(title=\"Save demerged file as\", defaultextension=\".pdf\", filetypes=[(\"PDF Files\", \"*.pdf\")], initialfile=f\"demerge{chunk_idx}.pdf\")\n",
    "        if not save_path:\n",
    "            print(\"No output file selected. Exiting.\")\n",
    "            try:\n",
    "                root.destroy()\n",
    "            except Exception:\n",
    "                pass\n",
    "            raise SystemExit\n",
    "        pdf_writer = PyPDF2.PdfWriter()\n",
    "\n",
    "        for j in range(start_idx, start_idx + ctr):\n",
    "            page = pdf.pages[j]\n",
    "            pdf_writer.add_page(page)\n",
    "\n",
    "        start_idx += ctr\n",
    "        processed += ctr\n",
    "        chunk_idx += 1\n",
    "\n",
    "        with open(save_path, mode='wb') as f:\n",
    "            pdf_writer.write(f)\n",
    "\n",
    "        print(\"Successfully done!\")\n",
    "\n",
    "\n"
   ]
  },
  {
   "cell_type": "markdown",
   "id": "merge-heading-1",
   "metadata": {},
   "source": [
    "## Merging 2 PDFs"
   ]
  },
  {
   "cell_type": "code",
   "execution_count": 16,
   "id": "merge-2pdfs",
   "metadata": {},
   "outputs": [
    {
     "name": "stdout",
     "output_type": "stream",
     "text": [
      "No output file selected. Exiting.\n"
     ]
    },
    {
     "ename": "SystemExit",
     "evalue": "",
     "output_type": "error",
     "traceback": [
      "An exception has occurred, use %tb to see the full traceback.\n",
      "\u001b[31mSystemExit\u001b[39m\n"
     ]
    },
    {
     "name": "stderr",
     "output_type": "stream",
     "text": [
      "c:\\Anaconda\\envs\\sideprojectenv\\Lib\\site-packages\\IPython\\core\\interactiveshell.py:3675: UserWarning: To exit: use 'exit', 'quit', or Ctrl-D.\n",
      "  warn(\"To exit: use 'exit', 'quit', or Ctrl-D.\", stacklevel=1)\n"
     ]
    }
   ],
   "source": [
    "# Merge two PDFs\n",
    "root = tk.Tk()\n",
    "root.withdraw()\n",
    "\n",
    "\n",
    "pdf1 = filedialog.askopenfilename(title=\"Select first PDF\", filetypes=[(\"PDF Files\", \"*.pdf\")])\n",
    "pdf2 = filedialog.askopenfilename(title=\"Select second PDF\", filetypes=[(\"PDF Files\", \"*.pdf\")])\n",
    "\n",
    "if not pdf1 or not pdf2:\n",
    "    print(\"Selection cancelled.\")\n",
    "    try:\n",
    "        root.destroy()\n",
    "    except Exception:\n",
    "        pass\n",
    "    raise SystemExit\n",
    "save_path = filedialog.asksaveasfilename(title=\"Save merged PDF as\", defaultextension=\".pdf\", filetypes=[(\"PDF Files\", \"*.pdf\")], initialfile=\"merged.pdf\")\n",
    "if not save_path:\n",
    "    print(\"No output file selected. Exiting.\")\n",
    "    try:\n",
    "        root.destroy()\n",
    "    except Exception:\n",
    "        pass\n",
    "    raise SystemExit\n",
    "try:\n",
    "    merger = PyPDF2.PdfMerger()\n",
    "    merger.append(pdf1)\n",
    "    merger.append(pdf2)\n",
    "    with open(save_path, \"wb\") as out_f:\n",
    "        merger.write(out_f)\n",
    "    print(f\"Merged into {save_path}\")\n",
    "finally:\n",
    "    try:\n",
    "        merger.close()\n",
    "    except Exception:\n",
    "        pass\n",
    "    try:\n",
    "        root.destroy()\n",
    "    except Exception:\n",
    "        pass\n"
   ]
  }
 ],
 "metadata": {
  "kernelspec": {
   "display_name": "sideprojectenv",
   "language": "python",
   "name": "python3"
  },
  "language_info": {
   "codemirror_mode": {
    "name": "ipython",
    "version": 3
   },
   "file_extension": ".py",
   "mimetype": "text/x-python",
   "name": "python",
   "nbconvert_exporter": "python",
   "pygments_lexer": "ipython3",
   "version": "3.11.13"
  }
 },
 "nbformat": 4,
 "nbformat_minor": 5
}
