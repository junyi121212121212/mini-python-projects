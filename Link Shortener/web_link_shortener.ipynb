{
 "cells": [
  {
   "cell_type": "markdown",
   "id": "4125b0c1",
   "metadata": {},
   "source": [
    "# Shorten your links!\n",
    "\n",
    "Encrypt your passwords into a local file!\n",
    "\n",
    "\n",
    "**How it works:**\n",
    "1. Enter your website link\n",
    "2. Get your shortened link\n",
    "\n",
    "**Required modules:**\n",
    "- `pip install requests`\n",
    "- `pip install dotenv`\n",
    "\n",
    "**External requirements:**\n",
    "- `bitly` api key\n",
    "- replace `BITLY_API_KEY` in .env file with your api key\n",
    "\n"
   ]
  },
  {
   "cell_type": "code",
   "execution_count": 2,
   "id": "1e8f60d2",
   "metadata": {},
   "outputs": [
    {
     "name": "stdout",
     "output_type": "stream",
     "text": [
      "\n",
      "Your shortened link: https://bit.ly/4oC3DeT\n"
     ]
    }
   ],
   "source": [
    "import requests\n",
    "import json\n",
    "import os\n",
    "from dotenv import load_dotenv\n",
    "\n",
    "UI = input(\"Enter the long link: \")\n",
    "# Load variables from .env file into environment\n",
    "load_dotenv()\n",
    "\n",
    "# Get the API key from the environment variable\n",
    "api_key = os.getenv(\"BITLY_API_KEY\")\n",
    "\n",
    "headers = {\n",
    "    'Authorization': f'Bearer {api_key}',\n",
    "    'Content-Type': 'application/json',\n",
    "}\n",
    "\n",
    "data = {\"long_url\": UI}\n",
    "for i in range(3): \n",
    "    result = requests.post(\"https://api-ssl.bitly.com/v4/shorten\", headers=headers, data=json.dumps(data))\n",
    "    if result.status_code == 200:\n",
    "        break\n",
    "if result.status_code == 200:\n",
    "    link = json.loads(result.content)['link']\n",
    "    print(f\"\\nYour shortened link: {link}\")\n",
    "else:\n",
    "    print(\"error occured\")"
   ]
  }
 ],
 "metadata": {
  "kernelspec": {
   "display_name": "sideprojectenv",
   "language": "python",
   "name": "python3"
  },
  "language_info": {
   "codemirror_mode": {
    "name": "ipython",
    "version": 3
   },
   "file_extension": ".py",
   "mimetype": "text/x-python",
   "name": "python",
   "nbconvert_exporter": "python",
   "pygments_lexer": "ipython3",
   "version": "3.11.13"
  }
 },
 "nbformat": 4,
 "nbformat_minor": 5
}
