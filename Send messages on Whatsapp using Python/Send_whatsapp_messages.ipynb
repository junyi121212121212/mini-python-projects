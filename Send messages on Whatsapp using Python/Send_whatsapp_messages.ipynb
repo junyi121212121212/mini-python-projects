{
 "cells": [
  {
   "cell_type": "markdown",
   "id": "63ecd23a",
   "metadata": {},
   "source": [
    "# Send Whatsapp messages using Python!\n",
    "\n",
    "Send Whatsapp messages wth the power of python\n",
    "*(Use the `sideprojectenv` kernel)*\n",
    "\n",
    "**How it works:**\n",
    "1. Select a number\n",
    "2. Enter in what is being requested for\n",
    "3. See your message being sent out in real time!\n",
    "\n",
    "**Required modules:**\n",
    "- `pip install pywhatkit`\n",
    "\n",
    "**External Requisites:**\n",
    "- Login into the web version of whatsapp on your default browser.\n"
   ]
  },
  {
   "cell_type": "code",
   "execution_count": null,
   "id": "4abd6f16",
   "metadata": {},
   "outputs": [
    {
     "name": "stdout",
     "output_type": "stream",
     "text": [
      "Image sent to TeAL with message: Hi\n"
     ]
    }
   ],
   "source": [
    "class WhatsAppSender:\n",
    "    def __init__(self):\n",
    "        self.recipient = None\n",
    "        self.message = None\n",
    "        self.hour = None\n",
    "        self.minute = None\n",
    "\n",
    "    def get_recipient_and_message(self):\n",
    "        self.recipient = input(\"Enter phone number with region code (e.g., +1234567890): \")\n",
    "        self.message = input(\"Enter message: \")\n",
    "\n",
    "    def get_image_path(self):\n",
    "        root = tk.Tk()\n",
    "        root.withdraw()\n",
    "        filetypes = [\n",
    "            (\"Image files\", \"*.png *.jpg *.jpeg *.gif *.bmp\"),\n",
    "            (\"All files\", \"*.*\"),\n",
    "        ]\n",
    "        img_path = filedialog.askopenfilename(\n",
    "            title=\"Select image to send\", filetypes=filetypes\n",
    "        )\n",
    "        root.destroy()\n",
    "        return img_path\n",
    "\n",
    "    def send_instant_message(self):\n",
    "        \"\"\"Send an instant text message.\"\"\"\n",
    "        pywhatkit.sendwhatmsg_instantly(self.recipient, self.message, tab_close=True)\n",
    "        print(f'Message: \"{self.message}\" sent to \"{self.recipient}\" instantly!')\n",
    "\n",
    "    def send_instant_image(self):\n",
    "        \"\"\"Send an instant image with optional caption.\"\"\"\n",
    "        img_path = self.get_image_path()\n",
    "        if not img_path:\n",
    "            print(\"No image selected.\")\n",
    "            return\n",
    "\n",
    "        pywhatkit.sendwhats_image(self.recipient, img_path, self.message, tab_close=True)\n",
    "        print(f\"Image sent to {self.recipient} with message: {self.message}\")\n",
    "\n",
    "    def send_timed_message(self):\n",
    "        \"\"\"Send a scheduled message.\"\"\"\n",
    "        pywhatkit.sendwhatmsg(self.recipient, self.message, self.hour, self.minute, True, 2)\n",
    "        print(f'Message: \"{self.message}\" scheduled to \"{self.recipient}\" at {self.hour}:{self.minute}!')\n",
    "\n",
    "    def run(self):\n",
    "        user_choice = int(input(\"What type of message do you want to send? (1: Instant, 2: Timed): \"))\n",
    "\n",
    "        if user_choice == 1:\n",
    "            self.get_recipient_and_message()\n",
    "            send_img = input(\"Do you want to send an image? (y/n): \").strip().lower()\n",
    "            if send_img in ('y', 'yes'):\n",
    "                self.send_instant_image()\n",
    "            else:\n",
    "                self.send_instant_message()\n",
    "\n",
    "        elif user_choice == 2:\n",
    "            self.hour = int(input(\"Enter Hour (24 Hr Format): \"))\n",
    "            self.minute = int(input(\"Enter Minutes: \"))\n",
    "            self.get_recipient_and_message()\n",
    "            self.send_timed_message()\n",
    "\n",
    "        else:\n",
    "            print(\"Enter either 1 or 2\")\n",
    "\n",
    "\n",
    "if __name__ == \"__main__\":\n",
    "    sender = WhatsAppSender()\n",
    "    sender.run()"
   ]
  }
 ],
 "metadata": {
  "kernelspec": {
   "display_name": "sideprojectenv",
   "language": "python",
   "name": "python3"
  },
  "language_info": {
   "codemirror_mode": {
    "name": "ipython",
    "version": 3
   },
   "file_extension": ".py",
   "mimetype": "text/x-python",
   "name": "python",
   "nbconvert_exporter": "python",
   "pygments_lexer": "ipython3",
   "version": "3.11.13"
  }
 },
 "nbformat": 4,
 "nbformat_minor": 5
}
